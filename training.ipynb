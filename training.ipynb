{
 "cells": [
  {
   "cell_type": "code",
   "execution_count": null,
   "metadata": {},
   "outputs": [],
   "source": [
    "import numpy as np\n",
    "import pandas as pd\n",
    "from sklearn.linear_model import LogisticRegression\n",
    "from sklearn.tree import DecisionTreeClassifier\n",
    "from sklearn.model_selection import train_test_split\n",
    "from sklearn.metrics import accuracy_score\n",
    "import joblib"
   ]
  },
  {
   "cell_type": "code",
   "execution_count": null,
   "metadata": {},
   "outputs": [],
   "source": [
    "# Simulated dataset\n",
    "data = {\n",
    "    \"budget\": [1, 10, 20, 5, 15, 50, 80],\n",
    "    \"rating\": [6.0, 7.5, 9.0, 5.5, 7.0, 8.5, 9.5],\n",
    "    \"popularity\": [50, 80, 90, 40, 70, 95, 99],\n",
    "    \"hit\": [0, 1, 1, 0, 1, 1, 1],\n",
    "}"
   ]
  },
  {
   "cell_type": "code",
   "execution_count": null,
   "metadata": {},
   "outputs": [],
   "source": [
    "df = pd.DataFrame(data)\n",
    "\n",
    "# Features and labels\n",
    "X = df[[\"budget\", \"rating\", \"popularity\"]]\n",
    "y = df[\"hit\"]\n",
    "\n",
    "# Train/test split\n",
    "X_train, X_test, y_train, y_test = train_test_split(X, y, test_size=0.3, random_state=42)\n",
    "\n",
    "# Train the model\n",
    "model = LogisticRegression()\n",
    "model.fit(X_train, y_train)\n",
    "\n",
    "# Test accuracy\n",
    "y_pred = model.predict(X_test)\n",
    "print(f\"Accuracy: {accuracy_score(y_test, y_pred)}\")\n",
    "\n",
    "# Make a single prediction\n",
    "test = [[15, 5.9, 75]]\n",
    "print(f'the prediction for this movie is: {model.predict(test)}')\n",
    "# Save the model\n",
    "joblib.dump(model, \"movie_hit_predictor.pkl\")"
   ]
  }
 ],
 "metadata": {
  "kernelspec": {
   "display_name": "hit-or-flop",
   "language": "python",
   "name": "python3"
  },
  "language_info": {
   "name": "python",
   "version": "3.13.1"
  }
 },
 "nbformat": 4,
 "nbformat_minor": 2
}
